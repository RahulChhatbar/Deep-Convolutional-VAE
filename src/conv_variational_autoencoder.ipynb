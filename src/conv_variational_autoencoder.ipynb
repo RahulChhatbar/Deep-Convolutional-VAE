{
 "cells": [
  {
   "cell_type": "code",
   "execution_count": 113,
   "id": "b4696841-996b-4c36-b508-81814bce242b",
   "metadata": {},
   "outputs": [],
   "source": [
    "# !pip install torch\n",
    "# !pip install torchvision"
   ]
  },
  {
   "cell_type": "code",
   "execution_count": 114,
   "id": "1851460c-d5d8-4f8c-a2cf-cc7b9dc656fc",
   "metadata": {},
   "outputs": [],
   "source": [
    "import torch\n",
    "import torch.nn as nn\n",
    "import torch.optim as optim\n",
    "from torchvision import datasets, transforms\n",
    "from tqdm import tqdm\n",
    "\n",
    "device = torch.device('cuda' if torch.cuda.is_available() else 'cpu')"
   ]
  },
  {
   "cell_type": "code",
   "execution_count": 115,
   "id": "e09130d8",
   "metadata": {},
   "outputs": [],
   "source": [
    "# FC VAE Architecture\n",
    "class FCVAE(nn.Module):\n",
    "    def __init__(self, input_dim, hidden_dim, latent_dim):\n",
    "        super(FCVAE, self).__init__()\n",
    "        # Encoder\n",
    "        self.fc1 = nn.Linear(input_dim, hidden_dim)\n",
    "        self.fc_mu = nn.Linear(hidden_dim, latent_dim)\n",
    "        self.fc_logvar = nn.Linear(hidden_dim, latent_dim)\n",
    "        # Decoder\n",
    "        self.fc2 = nn.Linear(latent_dim, hidden_dim)\n",
    "        self.fc3 = nn.Linear(hidden_dim, input_dim)\n",
    "\n",
    "    def encode(self, x):\n",
    "        h1 = torch.relu(self.fc1(x))\n",
    "        return self.fc_mu(h1), self.fc_logvar(h1)\n",
    "\n",
    "    def reparameterize(self, mu, logvar):\n",
    "        std = torch.exp(0.5 * logvar)\n",
    "        eps = torch.randn_like(std)\n",
    "        return mu + eps * std\n",
    "\n",
    "    def decode(self, z):\n",
    "        h2 = torch.relu(self.fc2(z))\n",
    "        return torch.sigmoid(self.fc3(h2)).view(-1, 3, 32, 32)\n",
    "\n",
    "    def forward(self, x):\n",
    "        mu, logvar = self.encode(x)\n",
    "        z = self.reparameterize(mu, logvar)\n",
    "        return self.decode(z), mu, logvar"
   ]
  },
  {
   "cell_type": "code",
   "execution_count": 116,
   "id": "e4272f59-12f5-4e44-a55b-75d4a25710d8",
   "metadata": {},
   "outputs": [],
   "source": [
    "# Conv VAE Architecture\n",
    "class ConvVAE(nn.Module):\n",
    "    def __init__(self, latent_dim):\n",
    "        super(ConvVAE, self).__init__()\n",
    "        # Encoder\n",
    "        self.conv1 = nn.Conv2d(3, 32, 4, stride=2, padding=1)\n",
    "        self.conv2 = nn.Conv2d(32, 64, 4, stride=2, padding=1)\n",
    "        self.conv3 = nn.Conv2d(64, 128, 4, stride=2, padding=1)\n",
    "        self.conv4 = nn.Conv2d(128, 256, 4, stride=2, padding=1)\n",
    "\n",
    "        self.conv_mu = nn.Conv2d(256, latent_dim, kernel_size=2)\n",
    "        self.conv_logvar = nn.Conv2d(256, latent_dim, kernel_size=2)\n",
    "        \n",
    "        # Decoder\n",
    "        self.deconv1 = nn.ConvTranspose2d(latent_dim, 256, 2, stride=1)\n",
    "        self.deconv2 = nn.ConvTranspose2d(256, 128, 4, stride=2, padding=1)\n",
    "        self.deconv3 = nn.ConvTranspose2d(128, 64, 4, stride=2, padding=1)\n",
    "        self.deconv4 = nn.ConvTranspose2d(64, 32, 4, stride=2, padding=1)\n",
    "        self.deconv5 = nn.ConvTranspose2d(32, 3, 4, stride=2, padding=1)\n",
    "\n",
    "        self.relu = nn.ReLU()\n",
    "        self.sigmoid = nn.Sigmoid()\n",
    "\n",
    "    def encode(self, x):    \n",
    "        x = self.relu(self.conv1(x))\n",
    "        x = self.relu(self.conv2(x))\n",
    "        x = self.relu(self.conv3(x))\n",
    "        x = self.relu(self.conv4(x))\n",
    "\n",
    "        mu = self.conv_mu(x).squeeze(-1).squeeze(-1)\n",
    "        logvar = self.conv_logvar(x).squeeze(-1).squeeze(-1)\n",
    "        return mu, logvar\n",
    "\n",
    "    def reparameterize(self, mu, logvar):\n",
    "        std = torch.exp(0.5 * logvar)\n",
    "        eps = torch.randn_like(std)\n",
    "        return mu + eps * std\n",
    "\n",
    "    def decode(self, z):\n",
    "        x = z.unsqueeze(-1).unsqueeze(-1)\n",
    "        x = self.relu(self.deconv1(x))\n",
    "        x = self.relu(self.deconv2(x))\n",
    "        x = self.relu(self.deconv3(x))\n",
    "        x = self.relu(self.deconv4(x))\n",
    "        x = self.sigmoid(self.deconv5(x))\n",
    "        return x\n",
    "\n",
    "    def forward(self, x):\n",
    "        mu, logvar = self.encode(x)\n",
    "        z = self.reparameterize(mu, logvar)\n",
    "        return self.decode(z), mu, logvar\n"
   ]
  },
  {
   "cell_type": "code",
   "execution_count": 117,
   "id": "7e787790-a39d-4ada-bc09-e08879e61b29",
   "metadata": {},
   "outputs": [],
   "source": [
    "# Loss function\n",
    "def loss_function_cvae(recon_x, x, mu, logvar):\n",
    "    MSE = nn.functional.mse_loss(recon_x, x, reduction='sum')\n",
    "    KLD = -0.5 * torch.sum(1 + logvar - mu.pow(2) - logvar.exp())\n",
    "    return MSE + KLD, MSE, KLD\n",
    "\n",
    "def loss_function_fcvae(recon_x, x, mu, logvar):    \n",
    "    BCE = nn.functional.binary_cross_entropy(recon_x.view(-1, 3072), x.view(-1, 3072), reduction='sum')\n",
    "    KLD = -0.5 * torch.sum(1 + logvar - mu.pow(2) - logvar.exp())\n",
    "    return BCE + KLD, BCE, KLD"
   ]
  },
  {
   "cell_type": "code",
   "execution_count": 118,
   "id": "8566fc1e-df62-4a62-9ca4-df7aa7f83cff",
   "metadata": {},
   "outputs": [],
   "source": [
    "# Training the VAE\n",
    "def train(model, train_loader, optimizer, epoch, num_epochs, model_name, device):\n",
    "    model.train()\n",
    "    train_loss_total = 0\n",
    "    recon_loss_total = 0\n",
    "    kld_loss_total = 0\n",
    "    with tqdm(train_loader, unit='batch', desc=f'Epoch {epoch}', colour='green') as tepoch:\n",
    "        for batch_idx, (data, _) in enumerate(tepoch):\n",
    "            if model_name == 'cvae':\n",
    "                data = data.view(data.size(0), 3, 32, 32).to(device)\n",
    "            elif model_name == 'fcvae':\n",
    "                data = data.view(data.size(0), -1).to(device)   \n",
    "            optimizer.zero_grad()\n",
    "            recon_batch, mu, logvar = model(data)\n",
    "            if model_name == 'cvae':\n",
    "                loss_function = loss_function_cvae\n",
    "            elif model_name == 'fcvae':\n",
    "                loss_function = loss_function_fcvae\n",
    "            total_loss, recon_loss, kld_loss = loss_function(recon_batch, data, mu, logvar)\n",
    "            total_loss.backward()\n",
    "            train_loss_total += total_loss.item()\n",
    "            recon_loss_total += recon_loss.item()\n",
    "            kld_loss_total += kld_loss.item()\n",
    "            optimizer.step()\n",
    "            tepoch.set_postfix(\n",
    "                train_loss=train_loss_total / len(train_loader.dataset),\n",
    "                recon_loss=recon_loss_total / len(train_loader.dataset),\n",
    "                kld_loss=kld_loss_total / len(train_loader.dataset)\n",
    "            )\n",
    "    print(f'Epoch {epoch}/{num_epochs} train loss: {train_loss_total / len(train_loader.dataset)} mse loss: {recon_loss_total / len(train_loader.dataset)} kld loss: {kld_loss_total / len(train_loader.dataset)}')"
   ]
  },
  {
   "cell_type": "code",
   "execution_count": 119,
   "id": "461d55a1-0fdd-4943-ba97-39c83e85719b",
   "metadata": {},
   "outputs": [
    {
     "name": "stdout",
     "output_type": "stream",
     "text": [
      "Files already downloaded and verified\n",
      "Files already downloaded and verified\n",
      "--------------------------------------------------------------------------------\n"
     ]
    },
    {
     "name": "stderr",
     "output_type": "stream",
     "text": [
      "Epoch 1: 100%|\u001b[32m██████████\u001b[0m| 391/391 [00:57<00:00,  6.83batch/s, kld_loss=10.9, recon_loss=682, train_loss=693]    \n"
     ]
    },
    {
     "name": "stdout",
     "output_type": "stream",
     "text": [
      "Epoch 1/5 train loss: 692.6371675 mse loss: 681.76999 kld loss: 10.867177743618488\n"
     ]
    },
    {
     "name": "stderr",
     "output_type": "stream",
     "text": [
      "Epoch 2: 100%|\u001b[32m██████████\u001b[0m| 391/391 [00:47<00:00,  8.17batch/s, kld_loss=18, recon_loss=578, train_loss=596]    \n"
     ]
    },
    {
     "name": "stdout",
     "output_type": "stream",
     "text": [
      "Epoch 2/5 train loss: 595.949594765625 mse loss: 577.981664453125 kld loss: 17.96792930419922\n"
     ]
    },
    {
     "name": "stderr",
     "output_type": "stream",
     "text": [
      "Epoch 3: 100%|\u001b[32m██████████\u001b[0m| 391/391 [00:51<00:00,  7.52batch/s, kld_loss=20.5, recon_loss=547, train_loss=568]  \n"
     ]
    },
    {
     "name": "stdout",
     "output_type": "stream",
     "text": [
      "Epoch 3/5 train loss: 567.789069140625 mse loss: 547.2586271875 kld loss: 20.53044064453125\n"
     ]
    },
    {
     "name": "stderr",
     "output_type": "stream",
     "text": [
      "Epoch 4: 100%|\u001b[32m██████████\u001b[0m| 391/391 [00:52<00:00,  7.51batch/s, kld_loss=22, recon_loss=534, train_loss=556]    \n"
     ]
    },
    {
     "name": "stdout",
     "output_type": "stream",
     "text": [
      "Epoch 4/5 train loss: 555.8455359375 mse loss: 533.88216515625 kld loss: 21.963371345214842\n"
     ]
    },
    {
     "name": "stderr",
     "output_type": "stream",
     "text": [
      "Epoch 5: 100%|\u001b[32m██████████\u001b[0m| 391/391 [00:51<00:00,  7.52batch/s, kld_loss=22.9, recon_loss=527, train_loss=550]  \n"
     ]
    },
    {
     "name": "stdout",
     "output_type": "stream",
     "text": [
      "Epoch 5/5 train loss: 550.1005775 mse loss: 527.1698609375 kld loss: 22.93071837402344\n",
      "--------------------------------------------------------------------------------\n"
     ]
    },
    {
     "name": "stderr",
     "output_type": "stream",
     "text": [
      "Epoch 1: 100%|\u001b[32m██████████\u001b[0m| 391/391 [00:16<00:00, 23.14batch/s, kld_loss=0.0898, recon_loss=0.0054, train_loss=0.0952] \n"
     ]
    },
    {
     "name": "stdout",
     "output_type": "stream",
     "text": [
      "Epoch 1/5 train loss: 0.09522550608634948 mse loss: 0.005399378923177719 kld loss: 0.08982612533211708\n"
     ]
    },
    {
     "name": "stderr",
     "output_type": "stream",
     "text": [
      "Epoch 2: 100%|\u001b[32m██████████\u001b[0m| 391/391 [00:17<00:00, 22.89batch/s, kld_loss=9.26e-8, recon_loss=0.00539, train_loss=0.00539] \n"
     ]
    },
    {
     "name": "stdout",
     "output_type": "stream",
     "text": [
      "Epoch 2/5 train loss: 0.005393248802423477 mse loss: 0.0053931561815738676 kld loss: 9.2620849609375e-08\n"
     ]
    },
    {
     "name": "stderr",
     "output_type": "stream",
     "text": [
      "Epoch 3: 100%|\u001b[32m██████████\u001b[0m| 391/391 [00:20<00:00, 19.10batch/s, kld_loss=0, recon_loss=0.00539, train_loss=0.00539] \n"
     ]
    },
    {
     "name": "stdout",
     "output_type": "stream",
     "text": [
      "Epoch 3/5 train loss: 0.005391940311193466 mse loss: 0.005391940311193466 kld loss: 0.0\n"
     ]
    },
    {
     "name": "stderr",
     "output_type": "stream",
     "text": [
      "Epoch 4: 100%|\u001b[32m██████████\u001b[0m| 391/391 [00:26<00:00, 14.67batch/s, kld_loss=0, recon_loss=0.00539, train_loss=0.00539] \n"
     ]
    },
    {
     "name": "stdout",
     "output_type": "stream",
     "text": [
      "Epoch 4/5 train loss: 0.005391425038576126 mse loss: 0.005391425038576126 kld loss: 0.0\n"
     ]
    },
    {
     "name": "stderr",
     "output_type": "stream",
     "text": [
      "Epoch 5: 100%|\u001b[32m██████████\u001b[0m| 391/391 [00:31<00:00, 12.51batch/s, kld_loss=0, recon_loss=0.00539, train_loss=0.00539] "
     ]
    },
    {
     "name": "stdout",
     "output_type": "stream",
     "text": [
      "Epoch 5/5 train loss: 0.005390808145999909 mse loss: 0.005390808145999909 kld loss: 0.0\n"
     ]
    },
    {
     "name": "stderr",
     "output_type": "stream",
     "text": [
      "\n"
     ]
    }
   ],
   "source": [
    "# Load MNIST dataset and run the training\n",
    "transform_cvae = transforms.Compose([\n",
    "    transforms.ToTensor(),\n",
    "    transforms.Normalize((0.5,0.5,0.5), (0.5,0.5,0.5))\n",
    "])\n",
    "\n",
    "train_dataset_cvae = datasets.CIFAR10('./data/cvae', train=True, download=True, transform=transform_cvae)\n",
    "train_loader_cvae = torch.utils.data.DataLoader(train_dataset_cvae, batch_size=128, shuffle=True)\n",
    "\n",
    "cvae = ConvVAE(latent_dim=128)\n",
    "optimizer_cvae = optim.Adam(cvae.parameters(), lr=1e-3)\n",
    "\n",
    "transform_fcvae = transforms.Compose([\n",
    "    transforms.ToTensor()\n",
    "])\n",
    "\n",
    "train_dataset_fcvae = datasets.CIFAR10('./data/fcvae', train=True, download=True, transform=transform_fcvae)\n",
    "train_loader_fcvae = torch.utils.data.DataLoader(train_dataset_fcvae, batch_size=128, shuffle=True)\n",
    "\n",
    "fcvae = FCVAE(input_dim=3072, hidden_dim=400, latent_dim=128)\n",
    "optimizer_fcvae = optim.Adam(fcvae.parameters(), lr=1e-3)\n",
    "\n",
    "num_epochs = 5\n",
    "\n",
    "print('--------------------------------------------------------------------------------')\n",
    "\n",
    "for epoch in range(1, num_epochs + 1):\n",
    "    train(cvae, train_loader_cvae, optimizer_cvae, epoch, num_epochs, 'cvae', device)\n",
    "\n",
    "print('--------------------------------------------------------------------------------')\n",
    "\n",
    "for epoch in range(1, num_epochs + 1):\n",
    "    train(fcvae, train_loader_fcvae, optimizer_fcvae, epoch, num_epochs, 'fcvae', device)"
   ]
  },
  {
   "cell_type": "code",
   "execution_count": 120,
   "id": "7560b0ff-44c3-40ac-9434-8b32b489c50f",
   "metadata": {},
   "outputs": [],
   "source": [
    "import matplotlib.pyplot as plt\n",
    "\n",
    "# Function to generate and display new images\n",
    "def generate_images(model, num_images, latent_dim):\n",
    "    model.eval()  # Set model to evaluation mode\n",
    "    with torch.no_grad():  # Turn off gradients for generation\n",
    "        # Sample random points from the latent space (standard normal distribution)\n",
    "        z = torch.randn(num_images, latent_dim)\n",
    "        # Decode these points to generate images\n",
    "        generated_images = []\n",
    "        for i in tqdm(range(num_images), desc='Generating images', unit='image', colour='blue'):\n",
    "            generated_image = model.decode(z[i:i+1]).cpu()\n",
    "            generated_images.append(generated_image)\n",
    "    # Convert the generated images to a single tensor\n",
    "    generated_images = torch.cat(generated_images, dim=0)\n",
    "\n",
    "    # Plot the generated images\n",
    "    fig, axs = plt.subplots(1, num_images, figsize=(num_images, 1.5))\n",
    "    for i in range(num_images):\n",
    "        axs[i].imshow(generated_images[i].numpy().transpose(1, 2, 0))\n",
    "        axs[i].axis('off')\n",
    "    plt.show()"
   ]
  },
  {
   "cell_type": "code",
   "execution_count": 124,
   "id": "ca3f8932-f0c9-4a47-ac17-4bc93e8ae945",
   "metadata": {},
   "outputs": [
    {
     "name": "stdout",
     "output_type": "stream",
     "text": [
      "Images from FC VAE\n"
     ]
    },
    {
     "name": "stderr",
     "output_type": "stream",
     "text": [
      "Generating images: 100%|\u001b[34m██████████\u001b[0m| 5/5 [00:00<00:00, 902.43image/s]"
     ]
    },
    {
     "name": "stderr",
     "output_type": "stream",
     "text": [
      "\n"
     ]
    },
    {
     "data": {
      "image/png": "[encoded data removed]",
      "text/plain": [
       "<Figure size 500x150 with 5 Axes>"
      ]
     },
     "metadata": {},
     "output_type": "display_data"
    },
    {
     "name": "stdout",
     "output_type": "stream",
     "text": [
      "Images from Conv VAE\n"
     ]
    },
    {
     "name": "stderr",
     "output_type": "stream",
     "text": [
      "Generating images: 100%|\u001b[34m██████████\u001b[0m| 5/5 [00:00<00:00, 129.32image/s]\n"
     ]
    },
    {
     "data": {
      "image/png": "[encoded data removed]",
      "text/plain": [
       "<Figure size 500x150 with 5 Axes>"
      ]
     },
     "metadata": {},
     "output_type": "display_data"
    }
   ],
   "source": [
    "# Assuming you have already trained the model (vae) and it has a latent dimension of 128\n",
    "print('Images from FC VAE')\n",
    "generate_images(fcvae, num_images=5, latent_dim=128)\n",
    "\n",
    "print('Images from Conv VAE')\n",
    "generate_images(cvae, num_images=5, latent_dim=128)"
   ]
  }
 ],
 "metadata": {
  "kernelspec": {
   "display_name": "ml",
   "language": "python",
   "name": "python3"
  },
  "language_info": {
   "codemirror_mode": {
    "name": "ipython",
    "version": 3
   },
   "file_extension": ".py",
   "mimetype": "text/x-python",
   "name": "python",
   "nbconvert_exporter": "python",
   "pygments_lexer": "ipython3",
   "version": "3.9.18"
  }
 },
 "nbformat": 4,
 "nbformat_minor": 5
}
