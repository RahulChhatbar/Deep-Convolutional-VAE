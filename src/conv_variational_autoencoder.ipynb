{
 "cells": [
  {
   "cell_type": "code",
   "execution_count": 76,
   "id": "b4696841-996b-4c36-b508-81814bce242b",
   "metadata": {},
   "outputs": [],
   "source": [
    "# !pip install torch\n",
    "# !pip install torchvision"
   ]
  },
  {
   "cell_type": "code",
   "execution_count": 77,
   "id": "1851460c-d5d8-4f8c-a2cf-cc7b9dc656fc",
   "metadata": {},
   "outputs": [],
   "source": [
    "import torch\n",
    "import torch.nn as nn\n",
    "import torch.optim as optim\n",
    "from torchvision import datasets, transforms\n",
    "from tqdm import tqdm\n",
    "\n",
    "device = torch.device('cuda' if torch.cuda.is_available() else 'cpu')"
   ]
  },
  {
   "cell_type": "code",
   "execution_count": 78,
   "id": "e09130d8",
   "metadata": {},
   "outputs": [],
   "source": [
    "# FC VAE Architecture\n",
    "class FCVAE(nn.Module):\n",
    "    def __init__(self, input_dim, hidden_dim, latent_dim):\n",
    "        super(FCVAE, self).__init__()\n",
    "        # Encoder\n",
    "        self.fc1 = nn.Linear(input_dim, hidden_dim)\n",
    "        self.fc2 = nn.Linear(hidden_dim, hidden_dim * 2)\n",
    "        self.fc3 = nn.Linear(hidden_dim * 2, hidden_dim * 2 * 2)\n",
    "\n",
    "        self.fc_mu = nn.Linear(hidden_dim * 2 * 2, latent_dim)\n",
    "        self.fc_logvar = nn.Linear(hidden_dim * 2 * 2, latent_dim)\n",
    "        \n",
    "        # Decoder\n",
    "        self.fc4 = nn.Linear(latent_dim, hidden_dim * 2 * 2)\n",
    "        self.fc5 = nn.Linear(hidden_dim * 2 * 2, hidden_dim * 2)\n",
    "        self.fc6 = nn.Linear(hidden_dim * 2, hidden_dim)\n",
    "        self.fc7 = nn.Linear(hidden_dim, input_dim)\n",
    "\n",
    "    def encode(self, x):\n",
    "        h1 = torch.relu(self.fc1(x))\n",
    "        h2 = torch.relu(self.fc2(h1))\n",
    "        h3 = torch.relu(self.fc3(h2))\n",
    "        return self.fc_mu(h3), self.fc_logvar(h3)\n",
    "\n",
    "    def reparameterize(self, mu, logvar):\n",
    "        std = torch.exp(0.5 * logvar)\n",
    "        eps = torch.randn_like(std)\n",
    "        return mu + eps * std\n",
    "\n",
    "    def decode(self, z):\n",
    "        h4 = torch.relu(self.fc4(z))\n",
    "        h5 = torch.relu(self.fc5(h4))\n",
    "        h6 = torch.relu(self.fc6(h5))\n",
    "        return torch.sigmoid(self.fc7(h6)).view(-1, 3, 32, 32)\n",
    "\n",
    "    def forward(self, x):\n",
    "        mu, logvar = self.encode(x)\n",
    "        z = self.reparameterize(mu, logvar)\n",
    "        return self.decode(z), mu, logvar"
   ]
  },
  {
   "cell_type": "code",
   "execution_count": 79,
   "id": "e4272f59-12f5-4e44-a55b-75d4a25710d8",
   "metadata": {},
   "outputs": [],
   "source": [
    "# Conv VAE Architecture\n",
    "class ConvVAE(nn.Module):\n",
    "    def __init__(self, latent_dim):\n",
    "        super(ConvVAE, self).__init__()\n",
    "        # Encoder\n",
    "        self.encoder = nn.Sequential(\n",
    "            nn.Conv2d(3, 32, 4, stride=2, padding=1),\n",
    "            nn.BatchNorm2d(32),\n",
    "            nn.LeakyReLU(),\n",
    "            nn.Conv2d(32, 64, 4, stride=2, padding=1),\n",
    "            nn.BatchNorm2d(64),\n",
    "            nn.LeakyReLU(),\n",
    "            nn.Conv2d(64, 128, 4, stride=2, padding=1),\n",
    "            nn.BatchNorm2d(128),\n",
    "            nn.LeakyReLU(),\n",
    "            nn.Conv2d(128, 256, 4, stride=2, padding=1),\n",
    "            nn.BatchNorm2d(256),\n",
    "            nn.LeakyReLU()\n",
    "        )\n",
    "\n",
    "        self.conv_mu = nn.Linear(256 * 2 * 2, latent_dim)\n",
    "        self.conv_logvar = nn.Linear(256 * 2 * 2, latent_dim)\n",
    "        self.z = nn.Linear(latent_dim, 256 * 2 * 2)\n",
    "        \n",
    "        # Decoder\n",
    "        self.decoder = nn.Sequential(\n",
    "            nn.ConvTranspose2d(256, 128, 4, stride=2, padding=1),\n",
    "            nn.BatchNorm2d(128),\n",
    "            nn.LeakyReLU(),\n",
    "            nn.ConvTranspose2d(128, 64, 4, stride=2, padding=1),\n",
    "            nn.BatchNorm2d(64),\n",
    "            nn.LeakyReLU(),\n",
    "            nn.ConvTranspose2d(64, 32, 4, stride=2, padding=1),\n",
    "            nn.BatchNorm2d(32),\n",
    "            nn.LeakyReLU(),\n",
    "            nn.ConvTranspose2d(32, 3, 4, stride=2, padding=1),\n",
    "            nn.Sigmoid()\n",
    "        )\n",
    "\n",
    "    def encode(self, x):\n",
    "        x = self.encoder(x)\n",
    "        x = x.view(x.size(0), -1)\n",
    "        mu = self.conv_mu(x)\n",
    "        logvar = self.conv_logvar(x)\n",
    "        return mu, logvar\n",
    "\n",
    "    def reparameterize(self, mu, logvar):\n",
    "        std = torch.exp(0.5 * logvar)\n",
    "        eps = torch.randn_like(std)\n",
    "        return mu + eps * std\n",
    "\n",
    "    def decode(self, z):\n",
    "        x = self.z(z)\n",
    "        x = x.view(-1, 256, 2, 2)\n",
    "        x = self.decoder(x)\n",
    "        return x\n",
    "\n",
    "    def forward(self, x):\n",
    "        mu, logvar = self.encode(x)\n",
    "        z = self.reparameterize(mu, logvar)\n",
    "        return self.decode(z), mu, logvar\n"
   ]
  },
  {
   "cell_type": "code",
   "execution_count": 80,
   "id": "7e787790-a39d-4ada-bc09-e08879e61b29",
   "metadata": {},
   "outputs": [],
   "source": [
    "# Loss function\n",
    "def loss_function_cvae(recon_x, x, mu, logvar, beta=1):\n",
    "    MSE = nn.functional.mse_loss(recon_x, x, reduction='sum')\n",
    "    KLD = -0.5 * torch.sum(1 + logvar - mu.pow(2) - logvar.exp())\n",
    "    return MSE + beta * KLD, MSE, KLD\n",
    "\n",
    "def loss_function_fcvae(recon_x, x, mu, logvar, beta=1):\n",
    "    BCE = nn.functional.binary_cross_entropy(recon_x.view(-1, 3072), x, reduction='sum')\n",
    "    KLD = -0.5 * torch.sum(1 + logvar - mu.pow(2) - logvar.exp())\n",
    "    return BCE + beta * KLD, BCE, KLD"
   ]
  },
  {
   "cell_type": "code",
   "execution_count": 81,
   "id": "8566fc1e-df62-4a62-9ca4-df7aa7f83cff",
   "metadata": {},
   "outputs": [],
   "source": [
    "# Training the VAE\n",
    "def train(model, train_loader, optimizer, epoch, num_epochs, model_name, device):\n",
    "    model.train()\n",
    "    train_loss_total = 0\n",
    "    recon_loss_total = 0\n",
    "    kld_loss_total = 0\n",
    "    with tqdm(train_loader, unit='batch', desc=f'Epoch {epoch}', colour='green') as tepoch:\n",
    "        for batch_idx, (data, _) in enumerate(tepoch):\n",
    "            if model_name == 'cvae':\n",
    "                data = data.view(data.size(0), 3, 32, 32).to(device)\n",
    "            elif model_name == 'fcvae':\n",
    "                data = data.view(data.size(0), -1).to(device)   \n",
    "            optimizer.zero_grad()\n",
    "            recon_batch, mu, logvar = model(data)\n",
    "            if model_name == 'cvae':\n",
    "                loss_function = loss_function_cvae\n",
    "            elif model_name == 'fcvae':\n",
    "                loss_function = loss_function_fcvae\n",
    "            total_loss, recon_loss, kld_loss = loss_function(recon_batch, data, mu, logvar)\n",
    "            total_loss.backward()\n",
    "            train_loss_total += total_loss.item()\n",
    "            recon_loss_total += recon_loss.item()\n",
    "            kld_loss_total += kld_loss.item()\n",
    "            optimizer.step()\n",
    "            tepoch.set_postfix(\n",
    "                train_loss=train_loss_total / len(train_loader.dataset),\n",
    "                recon_loss=recon_loss_total / len(train_loader.dataset),\n",
    "                kld_loss=kld_loss_total / len(train_loader.dataset)\n",
    "            )\n",
    "    print(f'Epoch {epoch}/{num_epochs} train loss: {train_loss_total / len(train_loader.dataset)} mse loss: {recon_loss_total / len(train_loader.dataset)} kld loss: {kld_loss_total / len(train_loader.dataset)}')"
   ]
  },
  {
   "cell_type": "code",
   "execution_count": 82,
   "id": "3a7986f3",
   "metadata": {},
   "outputs": [],
   "source": [
    "num_epochs = 5\n",
    "lr = 1e-3"
   ]
  },
  {
   "cell_type": "code",
   "execution_count": 83,
   "id": "461d55a1-0fdd-4943-ba97-39c83e85719b",
   "metadata": {},
   "outputs": [
    {
     "name": "stdout",
     "output_type": "stream",
     "text": [
      "Files already downloaded and verified\n"
     ]
    },
    {
     "name": "stderr",
     "output_type": "stream",
     "text": [
      "Epoch 1: 100%|\u001b[32m██████████\u001b[0m| 782/782 [02:04<00:00,  6.29batch/s, kld_loss=20.9, recon_loss=603, train_loss=624]  \n"
     ]
    },
    {
     "name": "stdout",
     "output_type": "stream",
     "text": [
      "Epoch 1/5 train loss: 623.8018245507812 mse loss: 602.8989240234375 kld loss: 20.90290036804199\n"
     ]
    },
    {
     "name": "stderr",
     "output_type": "stream",
     "text": [
      "Epoch 2: 100%|\u001b[32m██████████\u001b[0m| 782/782 [02:14<00:00,  5.80batch/s, kld_loss=24.4, recon_loss=534, train_loss=558]    \n"
     ]
    },
    {
     "name": "stdout",
     "output_type": "stream",
     "text": [
      "Epoch 2/5 train loss: 558.368303828125 mse loss: 534.00649015625 kld loss: 24.361813154296875\n"
     ]
    },
    {
     "name": "stderr",
     "output_type": "stream",
     "text": [
      "Epoch 3: 100%|\u001b[32m██████████\u001b[0m| 782/782 [04:06<00:00,  3.18batch/s, kld_loss=26, recon_loss=522, train_loss=548]      \n"
     ]
    },
    {
     "name": "stdout",
     "output_type": "stream",
     "text": [
      "Epoch 3/5 train loss: 548.1753936328125 mse loss: 522.1382748828125 kld loss: 26.037119126586916\n"
     ]
    },
    {
     "name": "stderr",
     "output_type": "stream",
     "text": [
      "Epoch 4: 100%|\u001b[32m██████████\u001b[0m| 782/782 [03:07<00:00,  4.17batch/s, kld_loss=26.9, recon_loss=517, train_loss=544]    \n"
     ]
    },
    {
     "name": "stdout",
     "output_type": "stream",
     "text": [
      "Epoch 4/5 train loss: 544.3812428027344 mse loss: 517.4527076953125 kld loss: 26.928535563964843\n"
     ]
    },
    {
     "name": "stderr",
     "output_type": "stream",
     "text": [
      "Epoch 5: 100%|\u001b[32m██████████\u001b[0m| 782/782 [03:15<00:00,  4.00batch/s, kld_loss=27.4, recon_loss=515, train_loss=542]    "
     ]
    },
    {
     "name": "stdout",
     "output_type": "stream",
     "text": [
      "Epoch 5/5 train loss: 542.1091625390625 mse loss: 514.6630077734375 kld loss: 27.446154776000977\n"
     ]
    },
    {
     "name": "stderr",
     "output_type": "stream",
     "text": [
      "\n"
     ]
    }
   ],
   "source": [
    "# Train the CVAE\n",
    "transform_cvae = transforms.Compose([\n",
    "    transforms.ToTensor(),\n",
    "    transforms.Normalize((0.5,0.5,0.5), (0.5,0.5,0.5))\n",
    "])\n",
    "\n",
    "train_dataset_cvae = datasets.CIFAR10('./data/cvae', train=True, download=True, transform=transform_cvae)\n",
    "train_loader_cvae = torch.utils.data.DataLoader(train_dataset_cvae, batch_size=64, shuffle=True)\n",
    "\n",
    "cvae = ConvVAE(latent_dim=128).to(device)\n",
    "optimizer_cvae = optim.Adam(cvae.parameters(), lr=lr)\n",
    "\n",
    "for epoch in range(1, num_epochs + 1):\n",
    "    train(cvae, train_loader_cvae, optimizer_cvae, epoch, num_epochs, 'cvae', device)"
   ]
  },
  {
   "cell_type": "code",
   "execution_count": 85,
   "id": "b5f1d38e",
   "metadata": {},
   "outputs": [
    {
     "name": "stdout",
     "output_type": "stream",
     "text": [
      "Files already downloaded and verified\n"
     ]
    },
    {
     "name": "stderr",
     "output_type": "stream",
     "text": [
      "Epoch 1: 100%|\u001b[32m██████████\u001b[0m| 782/782 [03:14<00:00,  4.03batch/s, kld_loss=10.2, recon_loss=1.99e+3, train_loss=2e+3]   \n"
     ]
    },
    {
     "name": "stdout",
     "output_type": "stream",
     "text": [
      "Epoch 1/5 train loss: 1995.2266791796876 mse loss: 1985.034792265625 kld loss: 10.191887810158729\n"
     ]
    },
    {
     "name": "stderr",
     "output_type": "stream",
     "text": [
      "Epoch 2: 100%|\u001b[32m██████████\u001b[0m| 782/782 [07:17<00:00,  1.79batch/s, kld_loss=8.41, recon_loss=1.94e+3, train_loss=1.94e+3]\n"
     ]
    },
    {
     "name": "stdout",
     "output_type": "stream",
     "text": [
      "Epoch 2/5 train loss: 1944.2367011328124 mse loss: 1935.822803359375 kld loss: 8.41389927520752\n"
     ]
    },
    {
     "name": "stderr",
     "output_type": "stream",
     "text": [
      "Epoch 3: 100%|\u001b[32m██████████\u001b[0m| 782/782 [07:14<00:00,  1.80batch/s, kld_loss=9.68, recon_loss=1.91e+3, train_loss=1.92e+3]\n"
     ]
    },
    {
     "name": "stdout",
     "output_type": "stream",
     "text": [
      "Epoch 3/5 train loss: 1922.29374640625 mse loss: 1912.618051640625 kld loss: 9.675694622802734\n"
     ]
    },
    {
     "name": "stderr",
     "output_type": "stream",
     "text": [
      "Epoch 4: 100%|\u001b[32m██████████\u001b[0m| 782/782 [06:53<00:00,  1.89batch/s, kld_loss=9.5, recon_loss=1.91e+3, train_loss=1.92e+3] \n"
     ]
    },
    {
     "name": "stdout",
     "output_type": "stream",
     "text": [
      "Epoch 4/5 train loss: 1917.66363390625 mse loss: 1908.1587378125 kld loss: 9.504893799438477\n"
     ]
    },
    {
     "name": "stderr",
     "output_type": "stream",
     "text": [
      "Epoch 5: 100%|\u001b[32m██████████\u001b[0m| 782/782 [04:50<00:00,  2.69batch/s, kld_loss=10.8, recon_loss=1.9e+3, train_loss=1.91e+3] "
     ]
    },
    {
     "name": "stdout",
     "output_type": "stream",
     "text": [
      "Epoch 5/5 train loss: 1910.1819956640625 mse loss: 1899.378713828125 kld loss: 10.803280044555665\n"
     ]
    },
    {
     "name": "stderr",
     "output_type": "stream",
     "text": [
      "\n"
     ]
    }
   ],
   "source": [
    "# Train the FCVAE\n",
    "transform_fcvae = transforms.Compose([\n",
    "    transforms.ToTensor()\n",
    "])\n",
    "\n",
    "train_dataset_fcvae = datasets.CIFAR10('./data/fcvae', train=True, download=True, transform=transform_fcvae)\n",
    "train_loader_fcvae = torch.utils.data.DataLoader(train_dataset_fcvae, batch_size=64, shuffle=True)\n",
    "\n",
    "fcvae = FCVAE(input_dim=3072, hidden_dim=1000, latent_dim=128)\n",
    "optimizer_fcvae = optim.Adam(fcvae.parameters(), lr=lr)\n",
    "\n",
    "for epoch in range(1, num_epochs + 1):\n",
    "    train(fcvae, train_loader_fcvae, optimizer_fcvae, epoch, num_epochs, 'fcvae', device)"
   ]
  },
  {
   "cell_type": "code",
   "execution_count": 86,
   "id": "7560b0ff-44c3-40ac-9434-8b32b489c50f",
   "metadata": {},
   "outputs": [],
   "source": [
    "import matplotlib.pyplot as plt\n",
    "\n",
    "# Function to generate and display new images\n",
    "def generate_images(model, num_images, latent_dim):\n",
    "    model.eval()  # Set model to evaluation mode\n",
    "    with torch.no_grad():  # Turn off gradients for generation\n",
    "        # Sample random points from the latent space (standard normal distribution)\n",
    "        z = torch.randn(num_images, latent_dim).to(next(model.parameters()).device)\n",
    "        # Decode these points to generate images\n",
    "        generated_images = []\n",
    "        for i in tqdm(range(num_images), desc='Generating images', unit='image', colour='blue'):\n",
    "            generated_image = model.decode(z[i:i+1]).cpu()\n",
    "            generated_images.append(generated_image)\n",
    "    # Convert the generated images to a single tensor\n",
    "    generated_images = torch.cat(generated_images, dim=0)\n",
    "\n",
    "    # Rescale the images to the range [0, 1]\n",
    "    generated_images = torch.clamp(generated_images, 0, 1)\n",
    "\n",
    "    # Plot the generated images\n",
    "    fig, axs = plt.subplots(1, num_images, figsize=(num_images, 1.5))\n",
    "    for i in range(num_images):\n",
    "        axs[i].imshow(generated_images[i].numpy().transpose(1, 2, 0))\n",
    "        axs[i].axis('off')\n",
    "    plt.show()"
   ]
  },
  {
   "cell_type": "code",
   "execution_count": 88,
   "id": "ca3f8932-f0c9-4a47-ac17-4bc93e8ae945",
   "metadata": {},
   "outputs": [
    {
     "name": "stdout",
     "output_type": "stream",
     "text": [
      "Images from FC VAE\n"
     ]
    },
    {
     "name": "stderr",
     "output_type": "stream",
     "text": [
      "Generating images: 100%|\u001b[34m██████████\u001b[0m| 5/5 [00:00<00:00, 204.17image/s]\n"
     ]
    },
    {
     "data": {
      "image/png": "[encoded data removed]",
      "text/plain": [
       "<Figure size 500x150 with 5 Axes>"
      ]
     },
     "metadata": {},
     "output_type": "display_data"
    },
    {
     "name": "stdout",
     "output_type": "stream",
     "text": [
      "Images from Conv VAE\n"
     ]
    },
    {
     "name": "stderr",
     "output_type": "stream",
     "text": [
      "Generating images: 100%|\u001b[34m██████████\u001b[0m| 5/5 [00:00<00:00, 203.44image/s]\n"
     ]
    },
    {
     "data": {
      "image/png": "[encoded data removed]",
      "text/plain": [
       "<Figure size 500x150 with 5 Axes>"
      ]
     },
     "metadata": {},
     "output_type": "display_data"
    }
   ],
   "source": [
    "# Assuming you have already trained the model (vae) and it has a latent dimension of 128\n",
    "print('Images from FC VAE')\n",
    "generate_images(fcvae, num_images=5, latent_dim=128)\n",
    "\n",
    "print('Images from Conv VAE')\n",
    "generate_images(cvae, num_images=5, latent_dim=128)"
   ]
  }
 ],
 "metadata": {
  "kernelspec": {
   "display_name": "ml",
   "language": "python",
   "name": "python3"
  },
  "language_info": {
   "codemirror_mode": {
    "name": "ipython",
    "version": 3
   },
   "file_extension": ".py",
   "mimetype": "text/x-python",
   "name": "python",
   "nbconvert_exporter": "python",
   "pygments_lexer": "ipython3",
   "version": "3.9.18"
  }
 },
 "nbformat": 4,
 "nbformat_minor": 5
}
